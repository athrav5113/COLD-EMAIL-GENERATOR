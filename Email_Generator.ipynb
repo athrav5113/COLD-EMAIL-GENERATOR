{
 "cells": [
  {
   "cell_type": "code",
   "execution_count": 3,
   "id": "74607e31",
   "metadata": {},
   "outputs": [],
   "source": [
    "from langchain_groq import ChatGroq"
   ]
  },
  {
   "cell_type": "code",
   "execution_count": 4,
   "id": "8697ad84",
   "metadata": {},
   "outputs": [
    {
     "name": "stdout",
     "output_type": "stream",
     "text": [
      "The founder of the Maratha Empire was Shivaji Bhonsle, also known as Chhatrapati Shivaji Maharaj. He was a Indian warrior king and a member of the Bhonsle Maratha clan. Shivaji was born on February 19, 1630, in Shivneri, near Pune, India. He is considered one of the greatest heroes in Indian history and is credited with establishing the Maratha Empire, which became a major power in India during the 17th and 18th centuries.\n",
      "\n",
      "Shivaji was a skilled military leader and strategist who united various Maratha clans and fought against the Adilshahi and Mughal empires to establish an independent Maratha kingdom. He is known for his bravery, cunning, and innovative military tactics, which included the use of guerrilla warfare and lightning-fast raids.\n",
      "\n",
      "Under Shivaji's leadership, the Maratha Empire expanded rapidly, and he established a strong and efficient administrative system, which included a well-organized military, a system of taxation, and a network of spies and informants. He also promoted the use of the Marathi language and encouraged the development of Marathi literature and culture.\n",
      "\n",
      "Shivaji died on April 3, 1680, but his legacy continued to inspire the Maratha people, and his empire continued to expand under the leadership of his successors, including his son Sambhaji and his grandson Rajaram. The Maratha Empire reached its peak during the 18th century, but it eventually declined and was eventually absorbed into the British Empire. Despite this, Shivaji remains a revered figure in Indian history and a symbol of Maratha pride and identity.\n"
     ]
    }
   ],
   "source": [
    "llm = ChatGroq(\n",
    "    temperature=0,\n",
    "    groq_api_key='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',\n",
    "    model=\"llama-3.3-70b-versatile\",\n",
    "   \n",
    ")\n",
    "response = llm.invoke(\"Founder of Maratha Empire\")\n",
    "print(response.content)"
   ]
  },
  {
   "cell_type": "code",
   "execution_count": 5,
   "id": "1f0b853e",
   "metadata": {},
   "outputs": [
    {
     "name": "stdout",
     "output_type": "stream",
     "text": [
      "Note: you may need to restart the kernel to use updated packages.\n"
     ]
    }
   ],
   "source": [
    "%pip install -qU langchain_community beautifulsoup4"
   ]
  },
  {
   "cell_type": "code",
   "execution_count": 6,
   "id": "dce8a0f4",
   "metadata": {},
   "outputs": [
    {
     "name": "stderr",
     "output_type": "stream",
     "text": [
      "USER_AGENT environment variable not set, consider setting it to identify your requests.\n"
     ]
    },
    {
     "name": "stdout",
     "output_type": "stream",
     "text": [
      "Apply for Manager, General Accounting AirMI Vietnam\n",
      "\n",
      "Search JobsSkip navigationSearch JobsNIKE, INC. JOBSContract JobsJoin The Talent CommunityLife @ NikeOverviewBenefitsBrandsOverviewJordanConverseTeamsOverviewAdministrative SupportAdvanced InnovationAir Manufacturing InnovationAviationCommunicationsCustomer ServiceDesignDigitalFacilitiesFinance & AccountingGovernment & Public AffairsHuman ResourcesInsights & AnalyticsLegalManufacturing & EngineeringMarketingMerchandisingPlanningPrivacyProcurementProduct Creation, Development & ManagementRetail CorporateRetail StoresSalesSocial & Community ImpactSports MarketingStrategic PlanningSupply Chain, Distribution & LogisticsSustainabilityTechnologyLocationsOverviewNike WHQNike New York HQEHQ: Hilversum, The NetherlandsELC: Laakdal, BelgiumGreater China HQDiversity, Equity & InclusionOverviewMilitary InclusionDisability InclusionIndigenous InclusionInternshipsFinance & AccountingManager, General Accounting AirMI VietnamTrang Bom District, Đồng NaiBecome a Part of the NIKE, Inc. TeamNIKE, Inc. does more than outfit the world’s best athletes. It is a place to explore potential, obliterate boundaries and push out the edges of what can be. The company looks for people who can grow, think, dream and create. Its culture thrives by embracing diversity and rewarding imagination. The brand seeks achievers, leaders and visionaries. At NIKE, Inc. it’s about each person bringing skills and passion to a challenging and constantly evolving game.Today, the opportunities for growth across NIKE, Inc.’s business portfolio offer more potential than ever. Nike Finance employees play a key role in that progress by identifying and capitalizing on opportunities to drive value for every Nike shareholder. They manage accounting and reporting for Nike’s multi-billion-dollar global investment portfolio, debt and equity instruments, and other Treasury activities. They strategize, forecast, audit, analyze, budget, research and lead important decisions. Across Nike’s diverse geographies and businesses, Finance employees deliver far more than just the numbers.WHO YOU’LL WORK WITHThe team is a unique collaboration of Nike Inventory Controlling and Air Manufacturing Innovation (AirMI). This role will be based in Dong Nai, Vietnam and reporting to Director, Controller AirMI.  The role requires a high degree of engagement with a diverse range of strategic business and finance partners. As part of the role, you will support Air MI’s strategic priorities including joining Air MI project teams. You will communicate with technology partners to maintain and update Air MI’s instance of SAP. You will partner with operational teammates to work through supply chain accounting projects including inventory management, capital projects, and operational expenses. Your collaboration with Tax and Legal counterparts to support quarterly tax and regulatory filings. You will thrive in an environment of accountability and collaboration in support of Nike’s dynamic environment.WHO WE ARE LOOKING FORThe role will be proactive, accountable, collaborative, and curious, with a strong accounting and communications skillset. We are looking for a teammate who has the ability to apply US GAAP to an integrated monthly close and who can execute accounting processes to a variety of projects and initiatives.Minimum 5 years of work experience in accounting and audit, with experience as an Accounting or Finance Manager/Assistant Manager.Chief Accountant Certificate or ACCA and/or CFA Qualification is preferred.Strong knowledge of Vietnamese accounting standards and tax regulations and procedures.Strong experience working with an ERP, proficiency in SAP is preferred.Experience in preparing financial statements and statutory reporting.Strong communication skills with advanced English proficiency (both written and verbal).Excellent organizational and project management skills with the ability to manage competing priorities and multiple stakeholders.WHAT YOU’LL WORK ONAt Nike Controlling, we are vanguards of the Nike financial statements and controls working together with other functions to ensure we completely and accurately represent our financial position. At AirMI, we deliver on Nike’s most daring dream: giving every athlete the unparalleled sensation of walking on air. The combination of these two functions will provide the experience of being part of an integrated Finance function within a manufacturing setting.In this role, your key responsibilities will be –Proactively partner with business and finance teammates to provide valuable accounting insights and guidance as the business makes strategic decisions.Actively participate in the development and deployment of Air MI objectives and projects.Review arrangements to evaluate and conclude on technical accounting implications and operational feasibility of new strategies, including reporting impact, intercompany considerations, and other technical matters.Accounting risks, considerations, and conclusions must be communicated to a diverse audience effectively.Navigating an ambiguous and evolving business landscape is essential to evaluate accounting considerations. You will manage monthly close and quarterly reporting activities around Air MI’s results to Nike Inc consolidated reporting team and Controlling leadership.You will execute of monthly control activities, including quarterly physical cycle count observations at Third-party Logistics (3PL).Additionally, you will leverage excellent verbal and written communication to effectively address technical matters, issues, risks, and opportunities with senior leadership.NIKE, Inc. is a growth company that looks for team members to grow with it. Nike offers a generous total rewards package, casual work environment, a diverse and inclusive culture, and an electric atmosphere for professional development. No matter the location, or the role, every Nike employee shares one galvanizing mission: To bring inspiration and innovation to every athlete* in the world.NIKE, Inc. is committed to employing a diverse workforce. Qualified applicants will receive consideration without regard to race, color, religion, sex, national origin, age, sexual orientation, gender identity, gender expression, veteran status, or disability.How We HireAt NIKE, Inc. we promise to provide a premium, inclusive, compelling and authentic candidate experience. Delivering on this promise means we allow you to be at your best — and to do that, you need to understand how the hiring process works. Transparency is key.\r\n",
      "\r\n",
      "* This overview explains our hiring process for corporate roles. Note there may be different hiring steps involved for non-corporate roles.Start nowBenefitsWhether it’s transportation or financial health, we continually invest in our employees to help them achieve greatness — inside and outside of work. All who work here should be able to realize their full potential.Employee Assistance ProgramHolidaysMedical PlanPaid Time Off (PTO)Product DiscountsLearn moreFIND A STOREBECOME A MEMBERSIGN UP FOR EMAILSEND US FEEDBACKSTUDENT DISCOUNTSGET HELPGET HELPOrder StatusDeliveryReturnsPayment OptionsContact Us On Nike.com InquiriesContact Us On All Other InquiriesABOUT NIKEABOUT NIKENewsCareersInvestorsSustainabilityIndia© 2025 Nike, Inc. All Rights ReservedGuidesNike AdaptNike Air MaxNike FlyleatherNike PegasusNike Zoom FlyNike AirNike FlyEaseNike FreeNike ReactNike ZoomXNike Air Force 1Nike FlyknitNike JoyrideNike VaporflyTerms of SaleTerms of UseNike Privacy Policy\n"
     ]
    }
   ],
   "source": [
    "from langchain_community.document_loaders import WebBaseLoader\n",
    "\n",
    "loader = WebBaseLoader(\"https://jobs.nike.com/job/R-46014?from=job%20search%20funnel\")\n",
    "page_data = loader.load().pop().page_content\n",
    "print(page_data)"
   ]
  },
  {
   "cell_type": "code",
   "execution_count": 9,
   "id": "ad488d2d",
   "metadata": {},
   "outputs": [],
   "source": [
    "from langchain_core.prompts import PromptTemplate"
   ]
  },
  {
   "cell_type": "code",
   "execution_count": 10,
   "id": "19a13572",
   "metadata": {},
   "outputs": [],
   "source": [
    "from langchain_groq import ChatGroq\n",
    "\n",
    "llm = ChatGroq(\n",
    "    temperature=0,\n",
    "    groq_api_key='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',\n",
    "    model=\"llama-3.3-70b-versatile\",)"
   ]
  },
  {
   "cell_type": "code",
   "execution_count": 11,
   "id": "317565c0",
   "metadata": {},
   "outputs": [
    {
     "data": {
      "text/plain": [
       "str"
      ]
     },
     "execution_count": 11,
     "metadata": {},
     "output_type": "execute_result"
    }
   ],
   "source": [
    "prompt_extract = PromptTemplate.from_template(\n",
    "    \"\"\"\n",
    "    ### SCRAPED TEXT FROM WEBSITE:\n",
    "    {page_data}\n",
    "    ### INSTRUCTION:\n",
    "    The scraped text is from the career's page of a website.\n",
    "    Your job is to extract the job postings and return them in JSON format contaning\n",
    "    following keys:'role', 'experience', 'skills' and 'description'.\n",
    "    Only return valid JSON.\n",
    "    ###VALID JSON (NO PREAMBLE):\n",
    "    \"\"\"\n",
    ")\n",
    "chain_extract = prompt_extract | llm\n",
    "res = chain_extract.invoke(input={'page_data': page_data})\n",
    "type(res.content)"
   ]
  },
  {
   "cell_type": "code",
   "execution_count": 12,
   "id": "ab1d6acc",
   "metadata": {},
   "outputs": [
    {
     "data": {
      "text/plain": [
       "{'role': 'Manager, General Accounting AirMI Vietnam',\n",
       " 'experience': 'Minimum 5 years of work experience in accounting and audit, with experience as an Accounting or Finance Manager/Assistant Manager',\n",
       " 'skills': ['Strong knowledge of Vietnamese accounting standards and tax regulations and procedures',\n",
       "  'Strong experience working with an ERP, proficiency in SAP is preferred',\n",
       "  'Experience in preparing financial statements and statutory reporting',\n",
       "  'Strong communication skills with advanced English proficiency (both written and verbal)',\n",
       "  'Excellent organizational and project management skills with the ability to manage competing priorities and multiple stakeholders'],\n",
       " 'description': 'The team is a unique collaboration of Nike Inventory Controlling and Air Manufacturing Innovation (AirMI). This role will be based in Dong Nai, Vietnam and reporting to Director, Controller AirMI. The role requires a high degree of engagement with a diverse range of strategic business and finance partners.'}"
      ]
     },
     "execution_count": 12,
     "metadata": {},
     "output_type": "execute_result"
    }
   ],
   "source": [
    "from langchain_core.output_parsers import JsonOutputParser\n",
    "\n",
    "json_parser = JsonOutputParser()\n",
    "json_res = json_parser.parse(res.content)\n",
    "json_res"
   ]
  },
  {
   "cell_type": "code",
   "execution_count": 13,
   "id": "b8cbf10a",
   "metadata": {},
   "outputs": [
    {
     "data": {
      "text/plain": [
       "dict"
      ]
     },
     "execution_count": 13,
     "metadata": {},
     "output_type": "execute_result"
    }
   ],
   "source": [
    "type(json_res)"
   ]
  },
  {
   "cell_type": "code",
   "execution_count": 19,
   "id": "361ef98b",
   "metadata": {},
   "outputs": [],
   "source": [
    "import pandas as pd\n",
    "import chromadb\n",
    "import uuid\n",
    "\n",
    "df = pd.read_csv(\"my_portfolio.csv\")\n",
    "\n",
    "client = chromadb.PersistentClient('vectorstore')\n",
    "collection = client.get_or_create_collection(name=\"portfolio\")\n",
    "\n",
    "if not collection.count():\n",
    "    for _, row in df.iterrows():\n",
    "        collection.add(documents=row[\"Techstack\"],\n",
    "                       metadatas={\"links\": row[\"Links\"]},\n",
    "                       ids=[str(uuid.uuid4())])\n"
   ]
  },
  {
   "cell_type": "code",
   "execution_count": 20,
   "id": "662a787b",
   "metadata": {},
   "outputs": [
    {
     "data": {
      "text/html": [
       "<div>\n",
       "<style scoped>\n",
       "    .dataframe tbody tr th:only-of-type {\n",
       "        vertical-align: middle;\n",
       "    }\n",
       "\n",
       "    .dataframe tbody tr th {\n",
       "        vertical-align: top;\n",
       "    }\n",
       "\n",
       "    .dataframe thead th {\n",
       "        text-align: right;\n",
       "    }\n",
       "</style>\n",
       "<table border=\"1\" class=\"dataframe\">\n",
       "  <thead>\n",
       "    <tr style=\"text-align: right;\">\n",
       "      <th></th>\n",
       "      <th>Techstack</th>\n",
       "      <th>Links</th>\n",
       "    </tr>\n",
       "  </thead>\n",
       "  <tbody>\n",
       "    <tr>\n",
       "      <th>0</th>\n",
       "      <td>React, Node.js, MongoDB</td>\n",
       "      <td>https://example.com/react-portfolio</td>\n",
       "    </tr>\n",
       "    <tr>\n",
       "      <th>1</th>\n",
       "      <td>Angular,.NET, SQL Server</td>\n",
       "      <td>https://example.com/angular-portfolio</td>\n",
       "    </tr>\n",
       "    <tr>\n",
       "      <th>2</th>\n",
       "      <td>Vue.js, Ruby on Rails, PostgreSQL</td>\n",
       "      <td>https://example.com/vue-portfolio</td>\n",
       "    </tr>\n",
       "    <tr>\n",
       "      <th>3</th>\n",
       "      <td>Python, Django, MySQL</td>\n",
       "      <td>https://example.com/python-portfolio</td>\n",
       "    </tr>\n",
       "    <tr>\n",
       "      <th>4</th>\n",
       "      <td>Java, Spring Boot, Oracle</td>\n",
       "      <td>https://example.com/java-portfolio</td>\n",
       "    </tr>\n",
       "    <tr>\n",
       "      <th>5</th>\n",
       "      <td>Flutter, Firebase, GraphQL</td>\n",
       "      <td>https://example.com/flutter-portfolio</td>\n",
       "    </tr>\n",
       "    <tr>\n",
       "      <th>6</th>\n",
       "      <td>WordPress, PHP, MySQL</td>\n",
       "      <td>https://example.com/wordpress-portfolio</td>\n",
       "    </tr>\n",
       "    <tr>\n",
       "      <th>7</th>\n",
       "      <td>Magento, PHP, MySQL</td>\n",
       "      <td>https://example.com/magento-portfolio</td>\n",
       "    </tr>\n",
       "    <tr>\n",
       "      <th>8</th>\n",
       "      <td>React Native, Node.js, MongoDB</td>\n",
       "      <td>https://example.com/react-native-portfolio</td>\n",
       "    </tr>\n",
       "    <tr>\n",
       "      <th>9</th>\n",
       "      <td>iOS, Swift, Core Data</td>\n",
       "      <td>https://example.com/ios-portfolio</td>\n",
       "    </tr>\n",
       "    <tr>\n",
       "      <th>10</th>\n",
       "      <td>Android, Java, Room Persistence</td>\n",
       "      <td>https://example.com/android-portfolio</td>\n",
       "    </tr>\n",
       "    <tr>\n",
       "      <th>11</th>\n",
       "      <td>Kotlin, Android, Firebase</td>\n",
       "      <td>https://example.com/kotlin-android-portfolio</td>\n",
       "    </tr>\n",
       "    <tr>\n",
       "      <th>12</th>\n",
       "      <td>Android TV, Kotlin, Android NDK</td>\n",
       "      <td>https://example.com/android-tv-portfolio</td>\n",
       "    </tr>\n",
       "    <tr>\n",
       "      <th>13</th>\n",
       "      <td>iOS, Swift, ARKit</td>\n",
       "      <td>https://example.com/ios-ar-portfolio</td>\n",
       "    </tr>\n",
       "    <tr>\n",
       "      <th>14</th>\n",
       "      <td>Cross-platform, Xamarin, Azure</td>\n",
       "      <td>https://example.com/xamarin-portfolio</td>\n",
       "    </tr>\n",
       "    <tr>\n",
       "      <th>15</th>\n",
       "      <td>Backend, Kotlin, Spring Boot</td>\n",
       "      <td>https://example.com/kotlin-backend-portfolio</td>\n",
       "    </tr>\n",
       "    <tr>\n",
       "      <th>16</th>\n",
       "      <td>Frontend, TypeScript, Angular</td>\n",
       "      <td>https://example.com/typescript-frontend-portfolio</td>\n",
       "    </tr>\n",
       "    <tr>\n",
       "      <th>17</th>\n",
       "      <td>Full-stack, JavaScript, Express.js</td>\n",
       "      <td>https://example.com/full-stack-js-portfolio</td>\n",
       "    </tr>\n",
       "    <tr>\n",
       "      <th>18</th>\n",
       "      <td>Machine Learning, Python, TensorFlow</td>\n",
       "      <td>https://example.com/ml-python-portfolio</td>\n",
       "    </tr>\n",
       "    <tr>\n",
       "      <th>19</th>\n",
       "      <td>DevOps, Jenkins, Docker</td>\n",
       "      <td>https://example.com/devops-portfolio</td>\n",
       "    </tr>\n",
       "  </tbody>\n",
       "</table>\n",
       "</div>"
      ],
      "text/plain": [
       "                               Techstack  \\\n",
       "0                React, Node.js, MongoDB   \n",
       "1               Angular,.NET, SQL Server   \n",
       "2      Vue.js, Ruby on Rails, PostgreSQL   \n",
       "3                  Python, Django, MySQL   \n",
       "4              Java, Spring Boot, Oracle   \n",
       "5             Flutter, Firebase, GraphQL   \n",
       "6                  WordPress, PHP, MySQL   \n",
       "7                    Magento, PHP, MySQL   \n",
       "8         React Native, Node.js, MongoDB   \n",
       "9                  iOS, Swift, Core Data   \n",
       "10       Android, Java, Room Persistence   \n",
       "11             Kotlin, Android, Firebase   \n",
       "12       Android TV, Kotlin, Android NDK   \n",
       "13                     iOS, Swift, ARKit   \n",
       "14        Cross-platform, Xamarin, Azure   \n",
       "15          Backend, Kotlin, Spring Boot   \n",
       "16         Frontend, TypeScript, Angular   \n",
       "17    Full-stack, JavaScript, Express.js   \n",
       "18  Machine Learning, Python, TensorFlow   \n",
       "19               DevOps, Jenkins, Docker   \n",
       "\n",
       "                                                Links  \n",
       "0                 https://example.com/react-portfolio  \n",
       "1               https://example.com/angular-portfolio  \n",
       "2                   https://example.com/vue-portfolio  \n",
       "3                https://example.com/python-portfolio  \n",
       "4                  https://example.com/java-portfolio  \n",
       "5               https://example.com/flutter-portfolio  \n",
       "6             https://example.com/wordpress-portfolio  \n",
       "7               https://example.com/magento-portfolio  \n",
       "8          https://example.com/react-native-portfolio  \n",
       "9                   https://example.com/ios-portfolio  \n",
       "10              https://example.com/android-portfolio  \n",
       "11       https://example.com/kotlin-android-portfolio  \n",
       "12           https://example.com/android-tv-portfolio  \n",
       "13               https://example.com/ios-ar-portfolio  \n",
       "14              https://example.com/xamarin-portfolio  \n",
       "15       https://example.com/kotlin-backend-portfolio  \n",
       "16  https://example.com/typescript-frontend-portfolio  \n",
       "17        https://example.com/full-stack-js-portfolio  \n",
       "18            https://example.com/ml-python-portfolio  \n",
       "19               https://example.com/devops-portfolio  "
      ]
     },
     "execution_count": 20,
     "metadata": {},
     "output_type": "execute_result"
    }
   ],
   "source": [
    "df"
   ]
  },
  {
   "cell_type": "code",
   "execution_count": 27,
   "id": "8e1e7bd1",
   "metadata": {
    "scrolled": true
   },
   "outputs": [
    {
     "data": {
      "text/plain": [
       "[[{'links': 'https://example.com/ml-python-portfolio'},\n",
       "  {'links': 'https://example.com/python-portfolio'}],\n",
       " [{'links': 'https://example.com/react-portfolio'},\n",
       "  {'links': 'https://example.com/react-native-portfolio'}]]"
      ]
     },
     "execution_count": 27,
     "metadata": {},
     "output_type": "execute_result"
    }
   ],
   "source": [
    "links = collection.query(query_texts=[\"Experience in Python\", \"Expertise in React\"], n_results=2).get('metadatas',[])\n",
    "links"
   ]
  },
  {
   "cell_type": "code",
   "execution_count": 28,
   "id": "67b27084",
   "metadata": {},
   "outputs": [
    {
     "data": {
      "text/plain": [
       "['Strong knowledge of Vietnamese accounting standards and tax regulations and procedures',\n",
       " 'Strong experience working with an ERP, proficiency in SAP is preferred',\n",
       " 'Experience in preparing financial statements and statutory reporting',\n",
       " 'Strong communication skills with advanced English proficiency (both written and verbal)',\n",
       " 'Excellent organizational and project management skills with the ability to manage competing priorities and multiple stakeholders']"
      ]
     },
     "execution_count": 28,
     "metadata": {},
     "output_type": "execute_result"
    }
   ],
   "source": [
    "job = json_res\n",
    "job['skills']"
   ]
  },
  {
   "cell_type": "code",
   "execution_count": null,
   "id": "67e780d6",
   "metadata": {},
   "outputs": [],
   "source": []
  }
 ],
 "metadata": {
  "kernelspec": {
   "display_name": "Python 3 (ipykernel)",
   "language": "python",
   "name": "python3"
  },
  "language_info": {
   "codemirror_mode": {
    "name": "ipython",
    "version": 3
   },
   "file_extension": ".py",
   "mimetype": "text/x-python",
   "name": "python",
   "nbconvert_exporter": "python",
   "pygments_lexer": "ipython3",
   "version": "3.9.13"
  }
 },
 "nbformat": 4,
 "nbformat_minor": 5
}
